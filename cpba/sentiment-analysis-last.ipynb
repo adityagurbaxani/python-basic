{
 "cells": [
  {
   "cell_type": "code",
   "execution_count": 2,
   "id": "2414ee2a",
   "metadata": {},
   "outputs": [],
   "source": [
    "from textblob import TextBlob"
   ]
  },
  {
   "cell_type": "code",
   "execution_count": 8,
   "id": "ef0e3dbc",
   "metadata": {},
   "outputs": [
    {
     "name": "stdout",
     "output_type": "stream",
     "text": [
      "Sentiment(polarity=0.0, subjectivity=0.0)\n"
     ]
    }
   ],
   "source": [
    "test1 = TextBlob(\"I like Apple.\")\n",
    "print(test1.sentiment)"
   ]
  },
  {
   "cell_type": "code",
   "execution_count": 9,
   "id": "ba822496",
   "metadata": {},
   "outputs": [
    {
     "name": "stdout",
     "output_type": "stream",
     "text": [
      "Sentiment(polarity=0.5, subjectivity=0.6)\n"
     ]
    }
   ],
   "source": [
    "test1 = TextBlob(\"I love Apple.\")\n",
    "print(test1.sentiment)"
   ]
  },
  {
   "cell_type": "code",
   "execution_count": 10,
   "id": "661ebaf7",
   "metadata": {},
   "outputs": [
    {
     "name": "stdout",
     "output_type": "stream",
     "text": [
      "Sentiment(polarity=-0.8, subjectivity=0.9)\n"
     ]
    }
   ],
   "source": [
    "test1 = TextBlob(\"I hate windows.\")\n",
    "print(test1.sentiment)"
   ]
  },
  {
   "cell_type": "code",
   "execution_count": 11,
   "id": "96cd3a99",
   "metadata": {},
   "outputs": [
    {
     "name": "stdout",
     "output_type": "stream",
     "text": [
      "Sentiment(polarity=1.0, subjectivity=0.75)\n"
     ]
    }
   ],
   "source": [
    "test1 = TextBlob(\"Azure clound services are great!\")\n",
    "print(test1.sentiment)"
   ]
  },
  {
   "cell_type": "code",
   "execution_count": 12,
   "id": "c058b011",
   "metadata": {},
   "outputs": [
    {
     "name": "stdout",
     "output_type": "stream",
     "text": [
      "Sentiment(polarity=1.0, subjectivity=0.3)\n"
     ]
    }
   ],
   "source": [
    "test1 = TextBlob(\"Those were the best days of my life.\")\n",
    "print(test1.sentiment)"
   ]
  },
  {
   "cell_type": "code",
   "execution_count": 13,
   "id": "f2e67c21",
   "metadata": {},
   "outputs": [
    {
     "name": "stdout",
     "output_type": "stream",
     "text": [
      "Sentiment(polarity=0.5, subjectivity=1.0)\n"
     ]
    }
   ],
   "source": [
    "test1 = TextBlob(\"My favorite hobby is sleeping.\")\n",
    "print(test1.sentiment)"
   ]
  },
  {
   "cell_type": "code",
   "execution_count": 14,
   "id": "69e6c5b5",
   "metadata": {},
   "outputs": [
    {
     "name": "stdout",
     "output_type": "stream",
     "text": [
      "Sentiment(polarity=1.0, subjectivity=0.3)\n"
     ]
    }
   ],
   "source": [
    "test1 = TextBlob(\"India is the BEST!!\")\n",
    "print(test1.sentiment)"
   ]
  },
  {
   "cell_type": "code",
   "execution_count": 15,
   "id": "ecd41488",
   "metadata": {},
   "outputs": [
    {
     "name": "stdout",
     "output_type": "stream",
     "text": [
      "Sentiment(polarity=0.0, subjectivity=0.0)\n"
     ]
    }
   ],
   "source": [
    "test1 = TextBlob(\"Delhi Rocks!!\")\n",
    "print(test1.sentiment)"
   ]
  },
  {
   "cell_type": "code",
   "execution_count": 16,
   "id": "22428656",
   "metadata": {},
   "outputs": [
    {
     "name": "stdout",
     "output_type": "stream",
     "text": [
      "Sentiment(polarity=1.0, subjectivity=0.3)\n"
     ]
    }
   ],
   "source": [
    "test1 = TextBlob(\"The best pizza!\")\n",
    "print(test1.sentiment)"
   ]
  },
  {
   "cell_type": "code",
   "execution_count": null,
   "id": "89ca15a9",
   "metadata": {},
   "outputs": [],
   "source": [
    "# nltk module\n",
    "# https://github.com/Premalatha-success\n",
    "# https://www.linkedin.com/in/latha-t-k-b2108128"
   ]
  }
 ],
 "metadata": {
  "kernelspec": {
   "display_name": "Python 3",
   "language": "python",
   "name": "python3"
  },
  "language_info": {
   "codemirror_mode": {
    "name": "ipython",
    "version": 3
   },
   "file_extension": ".py",
   "mimetype": "text/x-python",
   "name": "python",
   "nbconvert_exporter": "python",
   "pygments_lexer": "ipython3",
   "version": "3.9.6"
  }
 },
 "nbformat": 4,
 "nbformat_minor": 5
}
