{
 "cells": [
  {
   "cell_type": "code",
   "execution_count": 1,
   "id": "d2499e80",
   "metadata": {},
   "outputs": [],
   "source": [
    "import pandas as pd\n",
    "import numpy as np\n",
    "import matplotlib.pyplot as plt\n",
    "%matplotlib inline\n",
    "import seaborn as sns\n",
    "from scipy.stats import zscore"
   ]
  },
  {
   "cell_type": "code",
   "execution_count": null,
   "id": "c5e76c04",
   "metadata": {},
   "outputs": [],
   "source": [
    "# reading the CSV file into pandas DataFrame\n",
    "custData = pd.read_csv(\"./data-files/Cust_Spend_Data.csv\")\n",
    "custData.head(10)"
   ]
  },
  {
   "cell_type": "code",
   "execution_count": null,
   "id": "a0a069df",
   "metadata": {},
   "outputs": [],
   "source": [
    "custData.shape(10,7)"
   ]
  }
 ],
 "metadata": {
  "kernelspec": {
   "display_name": "Python 3",
   "language": "python",
   "name": "python3"
  },
  "language_info": {
   "codemirror_mode": {
    "name": "ipython",
    "version": 3
   },
   "file_extension": ".py",
   "mimetype": "text/x-python",
   "name": "python",
   "nbconvert_exporter": "python",
   "pygments_lexer": "ipython3",
   "version": "3.9.6"
  }
 },
 "nbformat": 4,
 "nbformat_minor": 5
}
