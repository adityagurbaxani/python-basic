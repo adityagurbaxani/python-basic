{
 "cells": [
  {
   "cell_type": "markdown",
   "id": "d0ba14d3",
   "metadata": {},
   "source": [
    "# CPBA"
   ]
  },
  {
   "cell_type": "markdown",
   "id": "7a5c135c",
   "metadata": {},
   "source": [
    "## Day 1"
   ]
  },
  {
   "cell_type": "markdown",
   "id": "3ca57658",
   "metadata": {},
   "source": [
    "### Basics of Python"
   ]
  },
  {
   "cell_type": "markdown",
   "id": "c24c31e1",
   "metadata": {},
   "source": [
    "##### something"
   ]
  },
  {
   "cell_type": "code",
   "execution_count": 1,
   "id": "f76bbdf6",
   "metadata": {
    "scrolled": true
   },
   "outputs": [
    {
     "data": {
      "text/plain": [
       "4"
      ]
     },
     "execution_count": 1,
     "metadata": {},
     "output_type": "execute_result"
    }
   ],
   "source": [
    "2+2"
   ]
  },
  {
   "cell_type": "code",
   "execution_count": 2,
   "id": "47b48fae",
   "metadata": {},
   "outputs": [
    {
     "name": "stdout",
     "output_type": "stream",
     "text": [
      "Python 3.9.6\r\n"
     ]
    }
   ],
   "source": [
    "!python --version"
   ]
  },
  {
   "cell_type": "code",
   "execution_count": 3,
   "id": "5ad46354",
   "metadata": {},
   "outputs": [
    {
     "name": "stdout",
     "output_type": "stream",
     "text": [
      "Hello World\n"
     ]
    }
   ],
   "source": [
    "print(\"Hello World\")"
   ]
  },
  {
   "cell_type": "code",
   "execution_count": 4,
   "id": "dcb9ced9",
   "metadata": {},
   "outputs": [
    {
     "name": "stdout",
     "output_type": "stream",
     "text": [
      "Hi! This is Aditya\n"
     ]
    }
   ],
   "source": [
    "print(\"Hi! This is Aditya\")"
   ]
  },
  {
   "cell_type": "code",
   "execution_count": 8,
   "id": "2ae0a38e",
   "metadata": {},
   "outputs": [
    {
     "data": {
      "text/plain": [
       "(int, float, str)"
      ]
     },
     "execution_count": 8,
     "metadata": {},
     "output_type": "execute_result"
    }
   ],
   "source": [
    "a=23\n",
    "b=2.3\n",
    "c=\"hello\"\n",
    "type(a),type(b),type(c)"
   ]
  },
  {
   "cell_type": "code",
   "execution_count": 10,
   "id": "a80a2ee5",
   "metadata": {},
   "outputs": [
    {
     "data": {
      "text/plain": [
       "tuple"
      ]
     },
     "execution_count": 10,
     "metadata": {},
     "output_type": "execute_result"
    }
   ],
   "source": [
    "d=2,2.3,\"hi\"\n",
    "type(d)"
   ]
  },
  {
   "cell_type": "markdown",
   "id": "1218786b",
   "metadata": {},
   "source": [
    "### Data types"
   ]
  },
  {
   "cell_type": "code",
   "execution_count": 11,
   "id": "177ec162",
   "metadata": {},
   "outputs": [
    {
     "ename": "NameError",
     "evalue": "name 'aditya' is not defined",
     "output_type": "error",
     "traceback": [
      "\u001b[0;31m---------------------------------------------------------------------------\u001b[0m",
      "\u001b[0;31mNameError\u001b[0m                                 Traceback (most recent call last)",
      "\u001b[0;32m<ipython-input-11-f19f0684f21a>\u001b[0m in \u001b[0;36m<module>\u001b[0;34m\u001b[0m\n\u001b[0;32m----> 1\u001b[0;31m \u001b[0mname\u001b[0m\u001b[0;34m=\u001b[0m\u001b[0maditya\u001b[0m\u001b[0;34m\u001b[0m\u001b[0;34m\u001b[0m\u001b[0m\n\u001b[0m",
      "\u001b[0;31mNameError\u001b[0m: name 'aditya' is not defined"
     ]
    }
   ],
   "source": [
    "name=aditya"
   ]
  },
  {
   "cell_type": "code",
   "execution_count": 12,
   "id": "5f71b86c",
   "metadata": {},
   "outputs": [],
   "source": [
    "name='aditya'"
   ]
  },
  {
   "cell_type": "code",
   "execution_count": 13,
   "id": "3f10cd0d",
   "metadata": {},
   "outputs": [
    {
     "data": {
      "text/plain": [
       "'aditya'"
      ]
     },
     "execution_count": 13,
     "metadata": {},
     "output_type": "execute_result"
    }
   ],
   "source": [
    "name"
   ]
  },
  {
   "cell_type": "code",
   "execution_count": 15,
   "id": "b1a7932e",
   "metadata": {},
   "outputs": [
    {
     "data": {
      "text/plain": [
       "str"
      ]
     },
     "execution_count": 15,
     "metadata": {},
     "output_type": "execute_result"
    }
   ],
   "source": [
    "type(name) # aditya is a string(text)"
   ]
  },
  {
   "cell_type": "code",
   "execution_count": 16,
   "id": "54f8b716",
   "metadata": {},
   "outputs": [
    {
     "data": {
      "text/plain": [
       "float"
      ]
     },
     "execution_count": 16,
     "metadata": {},
     "output_type": "execute_result"
    }
   ],
   "source": [
    "b = 5.2 #float-there is a decimal point\n",
    "type(b)"
   ]
  },
  {
   "cell_type": "code",
   "execution_count": 18,
   "id": "6fb997ce",
   "metadata": {},
   "outputs": [
    {
     "data": {
      "text/plain": [
       "int"
      ]
     },
     "execution_count": 18,
     "metadata": {},
     "output_type": "execute_result"
    }
   ],
   "source": [
    "c = 3 #integer-no decimal\n",
    "type(c)"
   ]
  },
  {
   "cell_type": "code",
   "execution_count": 19,
   "id": "0b2f354f",
   "metadata": {},
   "outputs": [],
   "source": [
    "d = 2j #j-complex"
   ]
  },
  {
   "cell_type": "code",
   "execution_count": 20,
   "id": "110db6e1",
   "metadata": {},
   "outputs": [
    {
     "data": {
      "text/plain": [
       "complex"
      ]
     },
     "execution_count": 20,
     "metadata": {},
     "output_type": "execute_result"
    }
   ],
   "source": [
    "type(d)"
   ]
  },
  {
   "cell_type": "code",
   "execution_count": 1,
   "id": "7c5a3ebd",
   "metadata": {},
   "outputs": [
    {
     "data": {
      "text/plain": [
       "list"
      ]
     },
     "execution_count": 1,
     "metadata": {},
     "output_type": "execute_result"
    }
   ],
   "source": [
    "sample_list = [\"Apples\",\"Oranges\",\"Bananas\"]\n",
    "type(sample_list)"
   ]
  },
  {
   "cell_type": "code",
   "execution_count": 2,
   "id": "d1c9b418",
   "metadata": {},
   "outputs": [
    {
     "data": {
      "text/plain": [
       "tuple"
      ]
     },
     "execution_count": 2,
     "metadata": {},
     "output_type": "execute_result"
    }
   ],
   "source": [
    "sample_list = (\"Apples\",\"Oranges\",\"Bananas\")\n",
    "type(sample_list)"
   ]
  },
  {
   "cell_type": "code",
   "execution_count": 3,
   "id": "1d670a3c",
   "metadata": {},
   "outputs": [
    {
     "data": {
      "text/plain": [
       "set"
      ]
     },
     "execution_count": 3,
     "metadata": {},
     "output_type": "execute_result"
    }
   ],
   "source": [
    "sample_list = {\"Apples\",\"Oranges\",\"Bananas\"}\n",
    "type(sample_list)"
   ]
  },
  {
   "cell_type": "code",
   "execution_count": 5,
   "id": "b09306d2",
   "metadata": {},
   "outputs": [
    {
     "data": {
      "text/plain": [
       "list"
      ]
     },
     "execution_count": 5,
     "metadata": {},
     "output_type": "execute_result"
    }
   ],
   "source": [
    "sample_list = [21,9.97, 9+2j,\"hi\"]\n",
    "# 21- Integer\n",
    "# 9.97- Float\n",
    "# 9+2j- Complex\n",
    "# hi- string\n",
    "type(sample_list)"
   ]
  },
  {
   "cell_type": "markdown",
   "id": "7992d6c1",
   "metadata": {},
   "source": [
    "##### List\n",
    "1. Allows Heterogeneous\n",
    "2. Index start from 0\n",
    "3. Mutable using index\n",
    "4. []"
   ]
  },
  {
   "cell_type": "code",
   "execution_count": 6,
   "id": "598c703b",
   "metadata": {},
   "outputs": [
    {
     "data": {
      "text/plain": [
       "(9+2j)"
      ]
     },
     "execution_count": 6,
     "metadata": {},
     "output_type": "execute_result"
    }
   ],
   "source": [
    "sample_list[2]"
   ]
  },
  {
   "cell_type": "code",
   "execution_count": 9,
   "id": "d3619f8a",
   "metadata": {},
   "outputs": [
    {
     "data": {
      "text/plain": [
       "[21, 9.97, (9+2j), 'hello']"
      ]
     },
     "execution_count": 9,
     "metadata": {},
     "output_type": "execute_result"
    }
   ],
   "source": [
    "sample_list[3] = \"hello\" # mutable\n",
    "sample_list"
   ]
  },
  {
   "cell_type": "code",
   "execution_count": 10,
   "id": "4f8654d5",
   "metadata": {},
   "outputs": [
    {
     "data": {
      "text/plain": [
       "['hello', (9+2j), 9.97, 21]"
      ]
     },
     "execution_count": 10,
     "metadata": {},
     "output_type": "execute_result"
    }
   ],
   "source": [
    "sample_list.reverse()\n",
    "sample_list"
   ]
  },
  {
   "cell_type": "markdown",
   "id": "8ece3580",
   "metadata": {},
   "source": [
    "##### Tuple\n",
    "1. Allows Heterogeneous\n",
    "2. Retrive using Index\n",
    "3. Tuble is immutable.\n",
    "4. ()"
   ]
  },
  {
   "cell_type": "code",
   "execution_count": 12,
   "id": "7036a62e",
   "metadata": {},
   "outputs": [
    {
     "data": {
      "text/plain": [
       "(2, 42, 64, 7.5, 'the', (9+1j))"
      ]
     },
     "execution_count": 12,
     "metadata": {},
     "output_type": "execute_result"
    }
   ],
   "source": [
    "sample_tuple = (2,42,64, 7.5, \"the\", 9+1j)\n",
    "sample_tuple"
   ]
  },
  {
   "cell_type": "code",
   "execution_count": 13,
   "id": "ed3f0233",
   "metadata": {},
   "outputs": [
    {
     "data": {
      "text/plain": [
       "tuple"
      ]
     },
     "execution_count": 13,
     "metadata": {},
     "output_type": "execute_result"
    }
   ],
   "source": [
    "type(sample_tuple)"
   ]
  },
  {
   "cell_type": "code",
   "execution_count": 14,
   "id": "672cb331",
   "metadata": {},
   "outputs": [
    {
     "data": {
      "text/plain": [
       "64"
      ]
     },
     "execution_count": 14,
     "metadata": {},
     "output_type": "execute_result"
    }
   ],
   "source": [
    "sample_tuple[2]"
   ]
  },
  {
   "cell_type": "code",
   "execution_count": null,
   "id": "d3becbe5",
   "metadata": {},
   "outputs": [],
   "source": [
    "sample_tuple[1] = 18 # immutable"
   ]
  },
  {
   "cell_type": "markdown",
   "id": "218a521c",
   "metadata": {},
   "source": [
    "##### Set\n",
    "1. Add heterogeneous\n",
    "2. Does not allow duplicates\n",
    "3. Cannot access using index\n",
    "4. Mutable?\n",
    "5. Sometimes can be ordered"
   ]
  },
  {
   "cell_type": "code",
   "execution_count": 15,
   "id": "3e75fcc8",
   "metadata": {},
   "outputs": [
    {
     "data": {
      "text/plain": [
       "set"
      ]
     },
     "execution_count": 15,
     "metadata": {},
     "output_type": "execute_result"
    }
   ],
   "source": [
    "sample_set = {2,42,13,21,23,69,66,73,-1,9,0,22,42,0,'b','ball'}\n",
    "type(sample_set)"
   ]
  },
  {
   "cell_type": "code",
   "execution_count": 16,
   "id": "df6bf131",
   "metadata": {},
   "outputs": [
    {
     "data": {
      "text/plain": [
       "{-1, 0, 13, 2, 21, 22, 23, 42, 66, 69, 73, 9, 'b', 'ball'}"
      ]
     },
     "execution_count": 16,
     "metadata": {},
     "output_type": "execute_result"
    }
   ],
   "source": [
    "sample_set"
   ]
  },
  {
   "cell_type": "code",
   "execution_count": 17,
   "id": "0ba3543e",
   "metadata": {},
   "outputs": [
    {
     "ename": "TypeError",
     "evalue": "'set' object is not subscriptable",
     "output_type": "error",
     "traceback": [
      "\u001b[0;31m---------------------------------------------------------------------------\u001b[0m",
      "\u001b[0;31mTypeError\u001b[0m                                 Traceback (most recent call last)",
      "\u001b[0;32m<ipython-input-17-08b93122e13c>\u001b[0m in \u001b[0;36m<module>\u001b[0;34m\u001b[0m\n\u001b[0;32m----> 1\u001b[0;31m \u001b[0msample_set\u001b[0m\u001b[0;34m[\u001b[0m\u001b[0;36m3\u001b[0m\u001b[0;34m]\u001b[0m\u001b[0;34m\u001b[0m\u001b[0;34m\u001b[0m\u001b[0m\n\u001b[0m",
      "\u001b[0;31mTypeError\u001b[0m: 'set' object is not subscriptable"
     ]
    }
   ],
   "source": [
    "sample_set[3]"
   ]
  },
  {
   "cell_type": "code",
   "execution_count": 18,
   "id": "8c176074",
   "metadata": {},
   "outputs": [
    {
     "data": {
      "text/plain": [
       "{-1, 0, 13, 2, 21, 22, 23, 42, 66, 69, 73, 'b', 'ball'}"
      ]
     },
     "execution_count": 18,
     "metadata": {},
     "output_type": "execute_result"
    }
   ],
   "source": [
    "sample_set.remove(9)\n",
    "sample_set"
   ]
  },
  {
   "cell_type": "markdown",
   "id": "611385b4",
   "metadata": {},
   "source": [
    "##### Dictionary\n",
    "1. Dictionary has key value pair data structure\n",
    "2. Key is unique and value can be duplicated\n",
    "3. Can retrive the value using key\n",
    "4. Can change the value using key\n",
    "5. Key is immutable"
   ]
  },
  {
   "cell_type": "code",
   "execution_count": 21,
   "id": "33c48b95",
   "metadata": {},
   "outputs": [
    {
     "data": {
      "text/plain": [
       "dict"
      ]
     },
     "execution_count": 21,
     "metadata": {},
     "output_type": "execute_result"
    }
   ],
   "source": [
    "sample_dict = {\n",
    "    1: \"alpha\",\n",
    "    \"b\": \"beta\", \n",
    "    12: \"gamma\",\n",
    "    \"d\": \"delta\",\n",
    "    5: \"fifth\",\n",
    "    0: \"zero\"\n",
    "}\n",
    "type(sample_dict)"
   ]
  },
  {
   "cell_type": "code",
   "execution_count": 22,
   "id": "30ddadcd",
   "metadata": {},
   "outputs": [
    {
     "data": {
      "text/plain": [
       "{1: 'alpha', 'b': 'beta', 12: 'gamma', 'd': 'delta', 5: 'fifth', 0: 'zero'}"
      ]
     },
     "execution_count": 22,
     "metadata": {},
     "output_type": "execute_result"
    }
   ],
   "source": [
    "sample_dict"
   ]
  },
  {
   "cell_type": "code",
   "execution_count": 23,
   "id": "8b03a308",
   "metadata": {},
   "outputs": [
    {
     "data": {
      "text/plain": [
       "'alpha'"
      ]
     },
     "execution_count": 23,
     "metadata": {},
     "output_type": "execute_result"
    }
   ],
   "source": [
    "sample_dict[1]"
   ]
  },
  {
   "cell_type": "code",
   "execution_count": 24,
   "id": "8f5edad3",
   "metadata": {},
   "outputs": [
    {
     "data": {
      "text/plain": [
       "'delta'"
      ]
     },
     "execution_count": 24,
     "metadata": {},
     "output_type": "execute_result"
    }
   ],
   "source": [
    "sample_dict['d']"
   ]
  },
  {
   "cell_type": "code",
   "execution_count": 26,
   "id": "9fba1352",
   "metadata": {},
   "outputs": [
    {
     "data": {
      "text/plain": [
       "{1: 'alpha', 'b': 'beta', 12: 'gamma', 'd': 'delta', 5: 'fifth', 0: 'Goodbye'}"
      ]
     },
     "execution_count": 26,
     "metadata": {},
     "output_type": "execute_result"
    }
   ],
   "source": [
    "sample_dict[0] = 'Goodbye'\n",
    "sample_dict"
   ]
  },
  {
   "cell_type": "markdown",
   "id": "62d50da6",
   "metadata": {},
   "source": [
    "##### String\n",
    "1. String can be retrieved using index\n",
    "2. Strings are immutable"
   ]
  },
  {
   "cell_type": "code",
   "execution_count": 31,
   "id": "929da260",
   "metadata": {},
   "outputs": [
    {
     "name": "stdout",
     "output_type": "stream",
     "text": [
      "The dark side of moon\n"
     ]
    },
    {
     "data": {
      "text/plain": [
       "str"
      ]
     },
     "execution_count": 31,
     "metadata": {},
     "output_type": "execute_result"
    }
   ],
   "source": [
    "s = \"The dark side of moon\"\n",
    "print(s)\n",
    "type(s)"
   ]
  },
  {
   "cell_type": "code",
   "execution_count": 32,
   "id": "b906a79c",
   "metadata": {},
   "outputs": [
    {
     "data": {
      "text/plain": [
       "'a'"
      ]
     },
     "execution_count": 32,
     "metadata": {},
     "output_type": "execute_result"
    }
   ],
   "source": [
    "s[5]"
   ]
  },
  {
   "cell_type": "code",
   "execution_count": 33,
   "id": "a402f99c",
   "metadata": {
    "scrolled": true
   },
   "outputs": [
    {
     "ename": "NameError",
     "evalue": "name 'a' is not defined",
     "output_type": "error",
     "traceback": [
      "\u001b[0;31m---------------------------------------------------------------------------\u001b[0m",
      "\u001b[0;31mNameError\u001b[0m                                 Traceback (most recent call last)",
      "\u001b[0;32m<ipython-input-33-f01e35e70c88>\u001b[0m in \u001b[0;36m<module>\u001b[0;34m\u001b[0m\n\u001b[0;32m----> 1\u001b[0;31m \u001b[0ma\u001b[0m\u001b[0;34m[\u001b[0m\u001b[0;36m0\u001b[0m\u001b[0;34m]\u001b[0m \u001b[0;34m=\u001b[0m \u001b[0;34m'q'\u001b[0m\u001b[0;34m\u001b[0m\u001b[0;34m\u001b[0m\u001b[0m\n\u001b[0m",
      "\u001b[0;31mNameError\u001b[0m: name 'a' is not defined"
     ]
    }
   ],
   "source": [
    "a[0] = 'q'"
   ]
  },
  {
   "cell_type": "code",
   "execution_count": 34,
   "id": "f610a328",
   "metadata": {},
   "outputs": [
    {
     "data": {
      "text/plain": [
       "float"
      ]
     },
     "execution_count": 34,
     "metadata": {},
     "output_type": "execute_result"
    }
   ],
   "source": [
    "#type conversion\n",
    "a = 23.975\n",
    "type(a)"
   ]
  },
  {
   "cell_type": "code",
   "execution_count": null,
   "id": "a5dc654f",
   "metadata": {},
   "outputs": [],
   "source": []
  }
 ],
 "metadata": {
  "kernelspec": {
   "display_name": "Python 3",
   "language": "python",
   "name": "python3"
  },
  "language_info": {
   "codemirror_mode": {
    "name": "ipython",
    "version": 3
   },
   "file_extension": ".py",
   "mimetype": "text/x-python",
   "name": "python",
   "nbconvert_exporter": "python",
   "pygments_lexer": "ipython3",
   "version": "3.9.6"
  }
 },
 "nbformat": 4,
 "nbformat_minor": 5
}
