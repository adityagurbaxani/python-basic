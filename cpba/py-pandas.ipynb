{
 "cells": [
  {
   "cell_type": "markdown",
   "id": "9556965d",
   "metadata": {},
   "source": [
    "### Pandas"
   ]
  },
  {
   "cell_type": "code",
   "execution_count": 4,
   "id": "4f28a433",
   "metadata": {},
   "outputs": [],
   "source": [
    "import pandas as pd\n",
    "import numpy as np"
   ]
  },
  {
   "cell_type": "code",
   "execution_count": 2,
   "id": "16f046b5",
   "metadata": {},
   "outputs": [],
   "source": [
    "labels = ['p','q','r','s']"
   ]
  },
  {
   "cell_type": "code",
   "execution_count": 3,
   "id": "ecbc6a21",
   "metadata": {},
   "outputs": [],
   "source": [
    "list = [11,21,5,7]"
   ]
  },
  {
   "cell_type": "code",
   "execution_count": 12,
   "id": "0a8b9793",
   "metadata": {},
   "outputs": [],
   "source": [
    "array = np.array([1,2,3,4])"
   ]
  },
  {
   "cell_type": "code",
   "execution_count": 13,
   "id": "3d03b144",
   "metadata": {},
   "outputs": [],
   "source": [
    "dict = {'p':10,'q':20,'r':30,'s':40}"
   ]
  },
  {
   "cell_type": "code",
   "execution_count": 14,
   "id": "5f5f5936",
   "metadata": {},
   "outputs": [
    {
     "data": {
      "text/plain": [
       "0    p\n",
       "1    q\n",
       "2    r\n",
       "3    s\n",
       "dtype: object"
      ]
     },
     "execution_count": 14,
     "metadata": {},
     "output_type": "execute_result"
    }
   ],
   "source": [
    "pd.Series(data=labels)"
   ]
  },
  {
   "cell_type": "code",
   "execution_count": 15,
   "id": "0c7a4899",
   "metadata": {},
   "outputs": [
    {
     "data": {
      "text/plain": [
       "p    11\n",
       "q    21\n",
       "r     5\n",
       "s     7\n",
       "dtype: int64"
      ]
     },
     "execution_count": 15,
     "metadata": {},
     "output_type": "execute_result"
    }
   ],
   "source": [
    "pd.Series(data=list,index=labels)"
   ]
  },
  {
   "cell_type": "code",
   "execution_count": 16,
   "id": "91c881bc",
   "metadata": {},
   "outputs": [
    {
     "data": {
      "text/plain": [
       "11    p\n",
       "21    q\n",
       "5     r\n",
       "7     s\n",
       "dtype: object"
      ]
     },
     "execution_count": 16,
     "metadata": {},
     "output_type": "execute_result"
    }
   ],
   "source": [
    "pd.Series(labels,list)"
   ]
  },
  {
   "cell_type": "code",
   "execution_count": 17,
   "id": "5e582cf3",
   "metadata": {},
   "outputs": [
    {
     "data": {
      "text/plain": [
       "p    10\n",
       "q    20\n",
       "r    30\n",
       "s    40\n",
       "dtype: int64"
      ]
     },
     "execution_count": 17,
     "metadata": {},
     "output_type": "execute_result"
    }
   ],
   "source": [
    "pd.Series(dict)"
   ]
  },
  {
   "cell_type": "markdown",
   "id": "747b21f1",
   "metadata": {},
   "source": [
    "### Pandas dataframe and indexing"
   ]
  },
  {
   "cell_type": "code",
   "execution_count": 7,
   "id": "a874b5d0",
   "metadata": {},
   "outputs": [
    {
     "data": {
      "text/plain": [
       "cricket       1\n",
       "football      2\n",
       "basketball    3\n",
       "golf          4\n",
       "dtype: int64"
      ]
     },
     "execution_count": 7,
     "metadata": {},
     "output_type": "execute_result"
    }
   ],
   "source": [
    "sports1 = pd.Series([1,2,3,4],index=['cricket','football','basketball','golf'])\n",
    "sports1"
   ]
  },
  {
   "cell_type": "code",
   "execution_count": 8,
   "id": "f0671d2f",
   "metadata": {},
   "outputs": [
    {
     "data": {
      "text/plain": [
       "1"
      ]
     },
     "execution_count": 8,
     "metadata": {},
     "output_type": "execute_result"
    }
   ],
   "source": [
    "sports1['cricket']"
   ]
  },
  {
   "cell_type": "code",
   "execution_count": 10,
   "id": "e2a6ff08",
   "metadata": {},
   "outputs": [
    {
     "data": {
      "text/plain": [
       "21"
      ]
     },
     "execution_count": 10,
     "metadata": {},
     "output_type": "execute_result"
    }
   ],
   "source": [
    "sports2 = pd.Series([21,31,17,0],index=['cricket','football','basketball','golf'])\n",
    "sports2['cricket']"
   ]
  },
  {
   "cell_type": "code",
   "execution_count": 18,
   "id": "24f688b0",
   "metadata": {},
   "outputs": [
    {
     "data": {
      "text/plain": [
       "cricket       22\n",
       "football      33\n",
       "basketball    20\n",
       "golf           4\n",
       "dtype: int64"
      ]
     },
     "execution_count": 18,
     "metadata": {},
     "output_type": "execute_result"
    }
   ],
   "source": [
    "sports1+sports2"
   ]
  },
  {
   "cell_type": "code",
   "execution_count": 31,
   "id": "ada2c886",
   "metadata": {},
   "outputs": [
    {
     "data": {
      "text/html": [
       "<div>\n",
       "<style scoped>\n",
       "    .dataframe tbody tr th:only-of-type {\n",
       "        vertical-align: middle;\n",
       "    }\n",
       "\n",
       "    .dataframe tbody tr th {\n",
       "        vertical-align: top;\n",
       "    }\n",
       "\n",
       "    .dataframe thead th {\n",
       "        text-align: right;\n",
       "    }\n",
       "</style>\n",
       "<table border=\"1\" class=\"dataframe\">\n",
       "  <thead>\n",
       "    <tr style=\"text-align: right;\">\n",
       "      <th></th>\n",
       "      <th>Score1</th>\n",
       "      <th>Score2</th>\n",
       "      <th>Score3</th>\n",
       "      <th>Score4</th>\n",
       "      <th>Score5</th>\n",
       "    </tr>\n",
       "  </thead>\n",
       "  <tbody>\n",
       "    <tr>\n",
       "      <th>P</th>\n",
       "      <td>-0.085651</td>\n",
       "      <td>1.208314</td>\n",
       "      <td>0.694746</td>\n",
       "      <td>-0.539738</td>\n",
       "      <td>1.198634</td>\n",
       "    </tr>\n",
       "    <tr>\n",
       "      <th>Q</th>\n",
       "      <td>-0.156614</td>\n",
       "      <td>-0.131502</td>\n",
       "      <td>0.772861</td>\n",
       "      <td>0.252476</td>\n",
       "      <td>0.971696</td>\n",
       "    </tr>\n",
       "    <tr>\n",
       "      <th>R</th>\n",
       "      <td>1.696737</td>\n",
       "      <td>-0.001603</td>\n",
       "      <td>3.241844</td>\n",
       "      <td>-1.406310</td>\n",
       "      <td>-0.248295</td>\n",
       "    </tr>\n",
       "    <tr>\n",
       "      <th>S</th>\n",
       "      <td>-1.145955</td>\n",
       "      <td>0.051111</td>\n",
       "      <td>1.425728</td>\n",
       "      <td>-0.023045</td>\n",
       "      <td>2.250460</td>\n",
       "    </tr>\n",
       "    <tr>\n",
       "      <th>T</th>\n",
       "      <td>0.586197</td>\n",
       "      <td>-1.152660</td>\n",
       "      <td>-2.113529</td>\n",
       "      <td>0.757053</td>\n",
       "      <td>0.092838</td>\n",
       "    </tr>\n",
       "    <tr>\n",
       "      <th>U</th>\n",
       "      <td>0.221625</td>\n",
       "      <td>-0.317106</td>\n",
       "      <td>-0.491224</td>\n",
       "      <td>0.194499</td>\n",
       "      <td>-0.696709</td>\n",
       "    </tr>\n",
       "    <tr>\n",
       "      <th>V</th>\n",
       "      <td>-0.598247</td>\n",
       "      <td>-0.145080</td>\n",
       "      <td>1.297352</td>\n",
       "      <td>-0.190690</td>\n",
       "      <td>0.235346</td>\n",
       "    </tr>\n",
       "    <tr>\n",
       "      <th>W</th>\n",
       "      <td>-0.023571</td>\n",
       "      <td>-0.752087</td>\n",
       "      <td>-0.505092</td>\n",
       "      <td>1.017182</td>\n",
       "      <td>0.090355</td>\n",
       "    </tr>\n",
       "  </tbody>\n",
       "</table>\n",
       "</div>"
      ],
      "text/plain": [
       "     Score1    Score2    Score3    Score4    Score5\n",
       "P -0.085651  1.208314  0.694746 -0.539738  1.198634\n",
       "Q -0.156614 -0.131502  0.772861  0.252476  0.971696\n",
       "R  1.696737 -0.001603  3.241844 -1.406310 -0.248295\n",
       "S -1.145955  0.051111  1.425728 -0.023045  2.250460\n",
       "T  0.586197 -1.152660 -2.113529  0.757053  0.092838\n",
       "U  0.221625 -0.317106 -0.491224  0.194499 -0.696709\n",
       "V -0.598247 -0.145080  1.297352 -0.190690  0.235346\n",
       "W -0.023571 -0.752087 -0.505092  1.017182  0.090355"
      ]
     },
     "execution_count": 31,
     "metadata": {},
     "output_type": "execute_result"
    }
   ],
   "source": [
    "df1 = pd.DataFrame(np.random.randn(8,5), index='P Q R S T U V W'.split(), columns='Score1 Score2 Score3 Score4 Score5'.split())\n",
    "df1"
   ]
  },
  {
   "cell_type": "code",
   "execution_count": 32,
   "id": "d8943297",
   "metadata": {},
   "outputs": [
    {
     "data": {
      "text/plain": [
       "P    1.208314\n",
       "Q   -0.131502\n",
       "R   -0.001603\n",
       "S    0.051111\n",
       "T   -1.152660\n",
       "U   -0.317106\n",
       "V   -0.145080\n",
       "W   -0.752087\n",
       "Name: Score2, dtype: float64"
      ]
     },
     "execution_count": 32,
     "metadata": {},
     "output_type": "execute_result"
    }
   ],
   "source": [
    "df1['Score2']"
   ]
  },
  {
   "cell_type": "code",
   "execution_count": 33,
   "id": "99407b5a",
   "metadata": {},
   "outputs": [
    {
     "data": {
      "text/html": [
       "<div>\n",
       "<style scoped>\n",
       "    .dataframe tbody tr th:only-of-type {\n",
       "        vertical-align: middle;\n",
       "    }\n",
       "\n",
       "    .dataframe tbody tr th {\n",
       "        vertical-align: top;\n",
       "    }\n",
       "\n",
       "    .dataframe thead th {\n",
       "        text-align: right;\n",
       "    }\n",
       "</style>\n",
       "<table border=\"1\" class=\"dataframe\">\n",
       "  <thead>\n",
       "    <tr style=\"text-align: right;\">\n",
       "      <th></th>\n",
       "      <th>Score3</th>\n",
       "      <th>Score1</th>\n",
       "      <th>Score4</th>\n",
       "    </tr>\n",
       "  </thead>\n",
       "  <tbody>\n",
       "    <tr>\n",
       "      <th>P</th>\n",
       "      <td>0.694746</td>\n",
       "      <td>-0.085651</td>\n",
       "      <td>-0.539738</td>\n",
       "    </tr>\n",
       "    <tr>\n",
       "      <th>Q</th>\n",
       "      <td>0.772861</td>\n",
       "      <td>-0.156614</td>\n",
       "      <td>0.252476</td>\n",
       "    </tr>\n",
       "    <tr>\n",
       "      <th>R</th>\n",
       "      <td>3.241844</td>\n",
       "      <td>1.696737</td>\n",
       "      <td>-1.406310</td>\n",
       "    </tr>\n",
       "    <tr>\n",
       "      <th>S</th>\n",
       "      <td>1.425728</td>\n",
       "      <td>-1.145955</td>\n",
       "      <td>-0.023045</td>\n",
       "    </tr>\n",
       "    <tr>\n",
       "      <th>T</th>\n",
       "      <td>-2.113529</td>\n",
       "      <td>0.586197</td>\n",
       "      <td>0.757053</td>\n",
       "    </tr>\n",
       "    <tr>\n",
       "      <th>U</th>\n",
       "      <td>-0.491224</td>\n",
       "      <td>0.221625</td>\n",
       "      <td>0.194499</td>\n",
       "    </tr>\n",
       "    <tr>\n",
       "      <th>V</th>\n",
       "      <td>1.297352</td>\n",
       "      <td>-0.598247</td>\n",
       "      <td>-0.190690</td>\n",
       "    </tr>\n",
       "    <tr>\n",
       "      <th>W</th>\n",
       "      <td>-0.505092</td>\n",
       "      <td>-0.023571</td>\n",
       "      <td>1.017182</td>\n",
       "    </tr>\n",
       "  </tbody>\n",
       "</table>\n",
       "</div>"
      ],
      "text/plain": [
       "     Score3    Score1    Score4\n",
       "P  0.694746 -0.085651 -0.539738\n",
       "Q  0.772861 -0.156614  0.252476\n",
       "R  3.241844  1.696737 -1.406310\n",
       "S  1.425728 -1.145955 -0.023045\n",
       "T -2.113529  0.586197  0.757053\n",
       "U -0.491224  0.221625  0.194499\n",
       "V  1.297352 -0.598247 -0.190690\n",
       "W -0.505092 -0.023571  1.017182"
      ]
     },
     "execution_count": 33,
     "metadata": {},
     "output_type": "execute_result"
    }
   ],
   "source": [
    "df1[['Score3','Score1','Score4']]"
   ]
  },
  {
   "cell_type": "code",
   "execution_count": 34,
   "id": "09938115",
   "metadata": {},
   "outputs": [
    {
     "name": "stdout",
     "output_type": "stream",
     "text": [
      "P   -1.738372\n",
      "Q   -0.719220\n",
      "R   -1.158015\n",
      "S   -2.273505\n",
      "T    0.664215\n",
      "U    0.891208\n",
      "V   -0.426035\n",
      "W    0.926827\n",
      "Name: Score6, dtype: float64\n"
     ]
    },
    {
     "data": {
      "text/html": [
       "<div>\n",
       "<style scoped>\n",
       "    .dataframe tbody tr th:only-of-type {\n",
       "        vertical-align: middle;\n",
       "    }\n",
       "\n",
       "    .dataframe tbody tr th {\n",
       "        vertical-align: top;\n",
       "    }\n",
       "\n",
       "    .dataframe thead th {\n",
       "        text-align: right;\n",
       "    }\n",
       "</style>\n",
       "<table border=\"1\" class=\"dataframe\">\n",
       "  <thead>\n",
       "    <tr style=\"text-align: right;\">\n",
       "      <th></th>\n",
       "      <th>Score1</th>\n",
       "      <th>Score2</th>\n",
       "      <th>Score3</th>\n",
       "      <th>Score4</th>\n",
       "      <th>Score5</th>\n",
       "      <th>Score6</th>\n",
       "    </tr>\n",
       "  </thead>\n",
       "  <tbody>\n",
       "    <tr>\n",
       "      <th>P</th>\n",
       "      <td>-0.085651</td>\n",
       "      <td>1.208314</td>\n",
       "      <td>0.694746</td>\n",
       "      <td>-0.539738</td>\n",
       "      <td>1.198634</td>\n",
       "      <td>-1.738372</td>\n",
       "    </tr>\n",
       "    <tr>\n",
       "      <th>Q</th>\n",
       "      <td>-0.156614</td>\n",
       "      <td>-0.131502</td>\n",
       "      <td>0.772861</td>\n",
       "      <td>0.252476</td>\n",
       "      <td>0.971696</td>\n",
       "      <td>-0.719220</td>\n",
       "    </tr>\n",
       "    <tr>\n",
       "      <th>R</th>\n",
       "      <td>1.696737</td>\n",
       "      <td>-0.001603</td>\n",
       "      <td>3.241844</td>\n",
       "      <td>-1.406310</td>\n",
       "      <td>-0.248295</td>\n",
       "      <td>-1.158015</td>\n",
       "    </tr>\n",
       "    <tr>\n",
       "      <th>S</th>\n",
       "      <td>-1.145955</td>\n",
       "      <td>0.051111</td>\n",
       "      <td>1.425728</td>\n",
       "      <td>-0.023045</td>\n",
       "      <td>2.250460</td>\n",
       "      <td>-2.273505</td>\n",
       "    </tr>\n",
       "    <tr>\n",
       "      <th>T</th>\n",
       "      <td>0.586197</td>\n",
       "      <td>-1.152660</td>\n",
       "      <td>-2.113529</td>\n",
       "      <td>0.757053</td>\n",
       "      <td>0.092838</td>\n",
       "      <td>0.664215</td>\n",
       "    </tr>\n",
       "    <tr>\n",
       "      <th>U</th>\n",
       "      <td>0.221625</td>\n",
       "      <td>-0.317106</td>\n",
       "      <td>-0.491224</td>\n",
       "      <td>0.194499</td>\n",
       "      <td>-0.696709</td>\n",
       "      <td>0.891208</td>\n",
       "    </tr>\n",
       "    <tr>\n",
       "      <th>V</th>\n",
       "      <td>-0.598247</td>\n",
       "      <td>-0.145080</td>\n",
       "      <td>1.297352</td>\n",
       "      <td>-0.190690</td>\n",
       "      <td>0.235346</td>\n",
       "      <td>-0.426035</td>\n",
       "    </tr>\n",
       "    <tr>\n",
       "      <th>W</th>\n",
       "      <td>-0.023571</td>\n",
       "      <td>-0.752087</td>\n",
       "      <td>-0.505092</td>\n",
       "      <td>1.017182</td>\n",
       "      <td>0.090355</td>\n",
       "      <td>0.926827</td>\n",
       "    </tr>\n",
       "  </tbody>\n",
       "</table>\n",
       "</div>"
      ],
      "text/plain": [
       "     Score1    Score2    Score3    Score4    Score5    Score6\n",
       "P -0.085651  1.208314  0.694746 -0.539738  1.198634 -1.738372\n",
       "Q -0.156614 -0.131502  0.772861  0.252476  0.971696 -0.719220\n",
       "R  1.696737 -0.001603  3.241844 -1.406310 -0.248295 -1.158015\n",
       "S -1.145955  0.051111  1.425728 -0.023045  2.250460 -2.273505\n",
       "T  0.586197 -1.152660 -2.113529  0.757053  0.092838  0.664215\n",
       "U  0.221625 -0.317106 -0.491224  0.194499 -0.696709  0.891208\n",
       "V -0.598247 -0.145080  1.297352 -0.190690  0.235346 -0.426035\n",
       "W -0.023571 -0.752087 -0.505092  1.017182  0.090355  0.926827"
      ]
     },
     "execution_count": 34,
     "metadata": {},
     "output_type": "execute_result"
    }
   ],
   "source": [
    "df1['Score6'] = df1['Score4']-df1['Score5']\n",
    "print(df1['Score6'])\n",
    "df1"
   ]
  },
  {
   "cell_type": "code",
   "execution_count": 35,
   "id": "d82329f7",
   "metadata": {},
   "outputs": [
    {
     "data": {
      "text/html": [
       "<div>\n",
       "<style scoped>\n",
       "    .dataframe tbody tr th:only-of-type {\n",
       "        vertical-align: middle;\n",
       "    }\n",
       "\n",
       "    .dataframe tbody tr th {\n",
       "        vertical-align: top;\n",
       "    }\n",
       "\n",
       "    .dataframe thead th {\n",
       "        text-align: right;\n",
       "    }\n",
       "</style>\n",
       "<table border=\"1\" class=\"dataframe\">\n",
       "  <thead>\n",
       "    <tr style=\"text-align: right;\">\n",
       "      <th></th>\n",
       "      <th>Score1</th>\n",
       "      <th>Score3</th>\n",
       "      <th>Score4</th>\n",
       "      <th>Score5</th>\n",
       "      <th>Score6</th>\n",
       "    </tr>\n",
       "  </thead>\n",
       "  <tbody>\n",
       "    <tr>\n",
       "      <th>P</th>\n",
       "      <td>-0.085651</td>\n",
       "      <td>0.694746</td>\n",
       "      <td>-0.539738</td>\n",
       "      <td>1.198634</td>\n",
       "      <td>-1.738372</td>\n",
       "    </tr>\n",
       "    <tr>\n",
       "      <th>Q</th>\n",
       "      <td>-0.156614</td>\n",
       "      <td>0.772861</td>\n",
       "      <td>0.252476</td>\n",
       "      <td>0.971696</td>\n",
       "      <td>-0.719220</td>\n",
       "    </tr>\n",
       "    <tr>\n",
       "      <th>R</th>\n",
       "      <td>1.696737</td>\n",
       "      <td>3.241844</td>\n",
       "      <td>-1.406310</td>\n",
       "      <td>-0.248295</td>\n",
       "      <td>-1.158015</td>\n",
       "    </tr>\n",
       "    <tr>\n",
       "      <th>S</th>\n",
       "      <td>-1.145955</td>\n",
       "      <td>1.425728</td>\n",
       "      <td>-0.023045</td>\n",
       "      <td>2.250460</td>\n",
       "      <td>-2.273505</td>\n",
       "    </tr>\n",
       "    <tr>\n",
       "      <th>T</th>\n",
       "      <td>0.586197</td>\n",
       "      <td>-2.113529</td>\n",
       "      <td>0.757053</td>\n",
       "      <td>0.092838</td>\n",
       "      <td>0.664215</td>\n",
       "    </tr>\n",
       "    <tr>\n",
       "      <th>U</th>\n",
       "      <td>0.221625</td>\n",
       "      <td>-0.491224</td>\n",
       "      <td>0.194499</td>\n",
       "      <td>-0.696709</td>\n",
       "      <td>0.891208</td>\n",
       "    </tr>\n",
       "    <tr>\n",
       "      <th>V</th>\n",
       "      <td>-0.598247</td>\n",
       "      <td>1.297352</td>\n",
       "      <td>-0.190690</td>\n",
       "      <td>0.235346</td>\n",
       "      <td>-0.426035</td>\n",
       "    </tr>\n",
       "    <tr>\n",
       "      <th>W</th>\n",
       "      <td>-0.023571</td>\n",
       "      <td>-0.505092</td>\n",
       "      <td>1.017182</td>\n",
       "      <td>0.090355</td>\n",
       "      <td>0.926827</td>\n",
       "    </tr>\n",
       "  </tbody>\n",
       "</table>\n",
       "</div>"
      ],
      "text/plain": [
       "     Score1    Score3    Score4    Score5    Score6\n",
       "P -0.085651  0.694746 -0.539738  1.198634 -1.738372\n",
       "Q -0.156614  0.772861  0.252476  0.971696 -0.719220\n",
       "R  1.696737  3.241844 -1.406310 -0.248295 -1.158015\n",
       "S -1.145955  1.425728 -0.023045  2.250460 -2.273505\n",
       "T  0.586197 -2.113529  0.757053  0.092838  0.664215\n",
       "U  0.221625 -0.491224  0.194499 -0.696709  0.891208\n",
       "V -0.598247  1.297352 -0.190690  0.235346 -0.426035\n",
       "W -0.023571 -0.505092  1.017182  0.090355  0.926827"
      ]
     },
     "execution_count": 35,
     "metadata": {},
     "output_type": "execute_result"
    }
   ],
   "source": [
    "df1.drop('Score2', axis=1)"
   ]
  },
  {
   "cell_type": "code",
   "execution_count": 38,
   "id": "de998773",
   "metadata": {},
   "outputs": [
    {
     "name": "stdout",
     "output_type": "stream",
     "text": [
      "     Score1    Score2    Score3    Score4    Score5   Score6\n",
      "Q -0.156614 -0.131502  0.772861  0.252476  0.971696 -0.71922\n"
     ]
    },
    {
     "data": {
      "text/html": [
       "<div>\n",
       "<style scoped>\n",
       "    .dataframe tbody tr th:only-of-type {\n",
       "        vertical-align: middle;\n",
       "    }\n",
       "\n",
       "    .dataframe tbody tr th {\n",
       "        vertical-align: top;\n",
       "    }\n",
       "\n",
       "    .dataframe thead th {\n",
       "        text-align: right;\n",
       "    }\n",
       "</style>\n",
       "<table border=\"1\" class=\"dataframe\">\n",
       "  <thead>\n",
       "    <tr style=\"text-align: right;\">\n",
       "      <th></th>\n",
       "      <th>Score1</th>\n",
       "      <th>Score2</th>\n",
       "      <th>Score3</th>\n",
       "      <th>Score4</th>\n",
       "      <th>Score5</th>\n",
       "      <th>Score6</th>\n",
       "    </tr>\n",
       "  </thead>\n",
       "  <tbody>\n",
       "    <tr>\n",
       "      <th>P</th>\n",
       "      <td>-0.085651</td>\n",
       "      <td>1.208314</td>\n",
       "      <td>0.694746</td>\n",
       "      <td>-0.539738</td>\n",
       "      <td>1.198634</td>\n",
       "      <td>-1.738372</td>\n",
       "    </tr>\n",
       "    <tr>\n",
       "      <th>R</th>\n",
       "      <td>1.696737</td>\n",
       "      <td>-0.001603</td>\n",
       "      <td>3.241844</td>\n",
       "      <td>-1.406310</td>\n",
       "      <td>-0.248295</td>\n",
       "      <td>-1.158015</td>\n",
       "    </tr>\n",
       "    <tr>\n",
       "      <th>S</th>\n",
       "      <td>-1.145955</td>\n",
       "      <td>0.051111</td>\n",
       "      <td>1.425728</td>\n",
       "      <td>-0.023045</td>\n",
       "      <td>2.250460</td>\n",
       "      <td>-2.273505</td>\n",
       "    </tr>\n",
       "    <tr>\n",
       "      <th>T</th>\n",
       "      <td>0.586197</td>\n",
       "      <td>-1.152660</td>\n",
       "      <td>-2.113529</td>\n",
       "      <td>0.757053</td>\n",
       "      <td>0.092838</td>\n",
       "      <td>0.664215</td>\n",
       "    </tr>\n",
       "    <tr>\n",
       "      <th>U</th>\n",
       "      <td>0.221625</td>\n",
       "      <td>-0.317106</td>\n",
       "      <td>-0.491224</td>\n",
       "      <td>0.194499</td>\n",
       "      <td>-0.696709</td>\n",
       "      <td>0.891208</td>\n",
       "    </tr>\n",
       "    <tr>\n",
       "      <th>V</th>\n",
       "      <td>-0.598247</td>\n",
       "      <td>-0.145080</td>\n",
       "      <td>1.297352</td>\n",
       "      <td>-0.190690</td>\n",
       "      <td>0.235346</td>\n",
       "      <td>-0.426035</td>\n",
       "    </tr>\n",
       "    <tr>\n",
       "      <th>W</th>\n",
       "      <td>-0.023571</td>\n",
       "      <td>-0.752087</td>\n",
       "      <td>-0.505092</td>\n",
       "      <td>1.017182</td>\n",
       "      <td>0.090355</td>\n",
       "      <td>0.926827</td>\n",
       "    </tr>\n",
       "  </tbody>\n",
       "</table>\n",
       "</div>"
      ],
      "text/plain": [
       "     Score1    Score2    Score3    Score4    Score5    Score6\n",
       "P -0.085651  1.208314  0.694746 -0.539738  1.198634 -1.738372\n",
       "R  1.696737 -0.001603  3.241844 -1.406310 -0.248295 -1.158015\n",
       "S -1.145955  0.051111  1.425728 -0.023045  2.250460 -2.273505\n",
       "T  0.586197 -1.152660 -2.113529  0.757053  0.092838  0.664215\n",
       "U  0.221625 -0.317106 -0.491224  0.194499 -0.696709  0.891208\n",
       "V -0.598247 -0.145080  1.297352 -0.190690  0.235346 -0.426035\n",
       "W -0.023571 -0.752087 -0.505092  1.017182  0.090355  0.926827"
      ]
     },
     "execution_count": 38,
     "metadata": {},
     "output_type": "execute_result"
    }
   ],
   "source": [
    "print(df1.iloc[1:2])\n",
    "df1.drop('Q')"
   ]
  },
  {
   "cell_type": "code",
   "execution_count": 39,
   "id": "491e68e2",
   "metadata": {},
   "outputs": [
    {
     "data": {
      "text/html": [
       "<div>\n",
       "<style scoped>\n",
       "    .dataframe tbody tr th:only-of-type {\n",
       "        vertical-align: middle;\n",
       "    }\n",
       "\n",
       "    .dataframe tbody tr th {\n",
       "        vertical-align: top;\n",
       "    }\n",
       "\n",
       "    .dataframe thead th {\n",
       "        text-align: right;\n",
       "    }\n",
       "</style>\n",
       "<table border=\"1\" class=\"dataframe\">\n",
       "  <thead>\n",
       "    <tr style=\"text-align: right;\">\n",
       "      <th></th>\n",
       "      <th>ID</th>\n",
       "      <th>Name</th>\n",
       "      <th>Profit</th>\n",
       "    </tr>\n",
       "  </thead>\n",
       "  <tbody>\n",
       "    <tr>\n",
       "      <th>0</th>\n",
       "      <td>1001</td>\n",
       "      <td>John</td>\n",
       "      <td>21</td>\n",
       "    </tr>\n",
       "    <tr>\n",
       "      <th>1</th>\n",
       "      <td>1002</td>\n",
       "      <td>Mercy</td>\n",
       "      <td>36</td>\n",
       "    </tr>\n",
       "    <tr>\n",
       "      <th>2</th>\n",
       "      <td>1003</td>\n",
       "      <td>Akash</td>\n",
       "      <td>97</td>\n",
       "    </tr>\n",
       "    <tr>\n",
       "      <th>3</th>\n",
       "      <td>1007</td>\n",
       "      <td>Kavin</td>\n",
       "      <td>73</td>\n",
       "    </tr>\n",
       "    <tr>\n",
       "      <th>4</th>\n",
       "      <td>1076</td>\n",
       "      <td>Lally</td>\n",
       "      <td>109</td>\n",
       "    </tr>\n",
       "  </tbody>\n",
       "</table>\n",
       "</div>"
      ],
      "text/plain": [
       "     ID   Name  Profit\n",
       "0  1001   John      21\n",
       "1  1002  Mercy      36\n",
       "2  1003  Akash      97\n",
       "3  1007  Kavin      73\n",
       "4  1076  Lally     109"
      ]
     },
     "execution_count": 39,
     "metadata": {},
     "output_type": "execute_result"
    }
   ],
   "source": [
    "df2 = {\n",
    "    'ID': [1001,1002,1003,1007,1076],\n",
    "    'Name': ['John','Mercy','Akash','Kavin','Lally'],\n",
    "    'Profit':[21,36,97,73,109]\n",
    "}\n",
    "df = pd.DataFrame(df2)\n",
    "df"
   ]
  },
  {
   "cell_type": "code",
   "execution_count": 41,
   "id": "cca1a95e",
   "metadata": {},
   "outputs": [
    {
     "data": {
      "text/plain": [
       "array([ 1,  2,  3,  4,  5,  6,  7,  8,  9, 10, 11, 12, 13, 14, 15, 16, 17,\n",
       "       18, 19, 20, 21, 22, 23, 24, 25, 26, 27, 28, 29, 30, 31, 32, 33, 34,\n",
       "       35, 36, 37, 38, 39, 40, 41, 42])"
      ]
     },
     "execution_count": 41,
     "metadata": {},
     "output_type": "execute_result"
    }
   ],
   "source": [
    "a = np.arange(1,43)\n",
    "a"
   ]
  },
  {
   "cell_type": "code",
   "execution_count": 43,
   "id": "42ad0ba2",
   "metadata": {},
   "outputs": [
    {
     "data": {
      "text/plain": [
       "array([[ 1,  2,  3,  4,  5,  6],\n",
       "       [ 7,  8,  9, 10, 11, 12],\n",
       "       [13, 14, 15, 16, 17, 18],\n",
       "       [19, 20, 21, 22, 23, 24],\n",
       "       [25, 26, 27, 28, 29, 30],\n",
       "       [31, 32, 33, 34, 35, 36],\n",
       "       [37, 38, 39, 40, 41, 42]])"
      ]
     },
     "execution_count": 43,
     "metadata": {},
     "output_type": "execute_result"
    }
   ],
   "source": [
    "bc = a.reshape(7,6)\n",
    "bc"
   ]
  },
  {
   "cell_type": "code",
   "execution_count": 44,
   "id": "46805cf9",
   "metadata": {},
   "outputs": [
    {
     "data": {
      "text/plain": [
       "15"
      ]
     },
     "execution_count": 44,
     "metadata": {},
     "output_type": "execute_result"
    }
   ],
   "source": [
    "bc[2][2]"
   ]
  },
  {
   "cell_type": "code",
   "execution_count": null,
   "id": "dc1df025",
   "metadata": {},
   "outputs": [],
   "source": []
  }
 ],
 "metadata": {
  "kernelspec": {
   "display_name": "Python 3",
   "language": "python",
   "name": "python3"
  },
  "language_info": {
   "codemirror_mode": {
    "name": "ipython",
    "version": 3
   },
   "file_extension": ".py",
   "mimetype": "text/x-python",
   "name": "python",
   "nbconvert_exporter": "python",
   "pygments_lexer": "ipython3",
   "version": "3.9.6"
  }
 },
 "nbformat": 4,
 "nbformat_minor": 5
}
